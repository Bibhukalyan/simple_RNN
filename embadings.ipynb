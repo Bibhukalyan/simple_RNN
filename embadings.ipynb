{
  "nbformat": 4,
  "nbformat_minor": 0,
  "metadata": {
    "colab": {
      "provenance": [],
      "authorship_tag": "ABX9TyNl7d872iGeQWhD1Ba00/Rl",
      "include_colab_link": true
    },
    "kernelspec": {
      "name": "python3",
      "display_name": "Python 3"
    },
    "language_info": {
      "name": "python"
    }
  },
  "cells": [
    {
      "cell_type": "markdown",
      "metadata": {
        "id": "view-in-github",
        "colab_type": "text"
      },
      "source": [
        "<a href=\"https://colab.research.google.com/github/Bibhukalyan/simple_RNN/blob/main/embadings.ipynb\" target=\"_parent\"><img src=\"https://colab.research.google.com/assets/colab-badge.svg\" alt=\"Open In Colab\"/></a>"
      ]
    },
    {
      "cell_type": "code",
      "execution_count": 1,
      "metadata": {
        "id": "8DHSXBx9H9EY"
      },
      "outputs": [],
      "source": [
        "import numpy as np\n",
        "from tensorflow.keras.preprocessing.text import one_hot\n",
        "from tensorflow.keras.preprocessing.sequence import pad_sequences\n",
        "from tensorflow.keras.models import Sequential\n",
        "from tensorflow.keras.layers import Dense\n",
        "from tensorflow.keras.layers import Embedding\n",
        "\n",
        "#"
      ]
    },
    {
      "cell_type": "code",
      "source": [
        "# sentences\n",
        "sent = ['the glass of milk',\n",
        "        'the glass of juice',\n",
        "        'the cup of tea',\n",
        "        'I am a good boy',\n",
        "        'I am a good developer',\n",
        "        'understand the meaning of words',\n",
        "        'your videos are good']"
      ],
      "metadata": {
        "id": "R_KaB40HIjbN"
      },
      "execution_count": 2,
      "outputs": []
    },
    {
      "cell_type": "code",
      "source": [
        "# Define the vocabulary\n",
        "voc_size = 10000\n",
        "one_hot_repr = [one_hot(words, voc_size) for words in sent]\n",
        "print(one_hot_repr)"
      ],
      "metadata": {
        "colab": {
          "base_uri": "https://localhost:8080/"
        },
        "id": "HiKjn2axIszB",
        "outputId": "e20b3e03-ca71-4596-ceca-84e81ea4bcb1"
      },
      "execution_count": 3,
      "outputs": [
        {
          "output_type": "stream",
          "name": "stdout",
          "text": [
            "[[9561, 7640, 2868, 9628], [9561, 7640, 2868, 8609], [9561, 6517, 2868, 3479], [5232, 515, 1046, 5006, 8197], [5232, 515, 1046, 5006, 1037], [8727, 9561, 3667, 2868, 2868], [5360, 3187, 1924, 5006]]\n"
          ]
        }
      ]
    },
    {
      "cell_type": "code",
      "source": [
        "# Word embeding representation\n",
        "sent_length = 8\n",
        "embedded_docs = pad_sequences(one_hot_repr, padding='pre', maxlen=sent_length)\n",
        "print(embedded_docs)"
      ],
      "metadata": {
        "colab": {
          "base_uri": "https://localhost:8080/"
        },
        "id": "d65kUn-mJb_T",
        "outputId": "cbbeb15b-0706-46ff-e705-9b9cfedb1cd1"
      },
      "execution_count": 4,
      "outputs": [
        {
          "output_type": "stream",
          "name": "stdout",
          "text": [
            "[[   0    0    0    0 9561 7640 2868 9628]\n",
            " [   0    0    0    0 9561 7640 2868 8609]\n",
            " [   0    0    0    0 9561 6517 2868 3479]\n",
            " [   0    0    0 5232  515 1046 5006 8197]\n",
            " [   0    0    0 5232  515 1046 5006 1037]\n",
            " [   0    0    0 8727 9561 3667 2868 2868]\n",
            " [   0    0    0    0 5360 3187 1924 5006]]\n"
          ]
        }
      ]
    },
    {
      "cell_type": "code",
      "source": [
        "#feature representation\n",
        "dim = 10 #10 is the number of featues that is used, we are telling use 10 features\n",
        "model = Sequential()\n",
        "model.add(Embedding(voc_size, dim, input_length=sent_length))\n",
        "model.compile('adam', 'mse')\n",
        "model.summary()"
      ],
      "metadata": {
        "colab": {
          "base_uri": "https://localhost:8080/",
          "height": 166
        },
        "id": "Wn2HkceqN7D0",
        "outputId": "5cb60363-175e-40c9-8979-f688e71b6bcc"
      },
      "execution_count": 6,
      "outputs": [
        {
          "output_type": "display_data",
          "data": {
            "text/plain": [
              "\u001b[1mModel: \"sequential_1\"\u001b[0m\n"
            ],
            "text/html": [
              "<pre style=\"white-space:pre;overflow-x:auto;line-height:normal;font-family:Menlo,'DejaVu Sans Mono',consolas,'Courier New',monospace\"><span style=\"font-weight: bold\">Model: \"sequential_1\"</span>\n",
              "</pre>\n"
            ]
          },
          "metadata": {}
        },
        {
          "output_type": "display_data",
          "data": {
            "text/plain": [
              "┏━━━━━━━━━━━━━━━━━━━━━━━━━━━━━━━━━━━━━━┳━━━━━━━━━━━━━━━━━━━━━━━━━━━━━┳━━━━━━━━━━━━━━━━━┓\n",
              "┃\u001b[1m \u001b[0m\u001b[1mLayer (type)                        \u001b[0m\u001b[1m \u001b[0m┃\u001b[1m \u001b[0m\u001b[1mOutput Shape               \u001b[0m\u001b[1m \u001b[0m┃\u001b[1m \u001b[0m\u001b[1m        Param #\u001b[0m\u001b[1m \u001b[0m┃\n",
              "┡━━━━━━━━━━━━━━━━━━━━━━━━━━━━━━━━━━━━━━╇━━━━━━━━━━━━━━━━━━━━━━━━━━━━━╇━━━━━━━━━━━━━━━━━┩\n",
              "│ embedding_1 (\u001b[38;5;33mEmbedding\u001b[0m)              │ ?                           │     \u001b[38;5;34m0\u001b[0m (unbuilt) │\n",
              "└──────────────────────────────────────┴─────────────────────────────┴─────────────────┘\n"
            ],
            "text/html": [
              "<pre style=\"white-space:pre;overflow-x:auto;line-height:normal;font-family:Menlo,'DejaVu Sans Mono',consolas,'Courier New',monospace\">┏━━━━━━━━━━━━━━━━━━━━━━━━━━━━━━━━━━━━━━┳━━━━━━━━━━━━━━━━━━━━━━━━━━━━━┳━━━━━━━━━━━━━━━━━┓\n",
              "┃<span style=\"font-weight: bold\"> Layer (type)                         </span>┃<span style=\"font-weight: bold\"> Output Shape                </span>┃<span style=\"font-weight: bold\">         Param # </span>┃\n",
              "┡━━━━━━━━━━━━━━━━━━━━━━━━━━━━━━━━━━━━━━╇━━━━━━━━━━━━━━━━━━━━━━━━━━━━━╇━━━━━━━━━━━━━━━━━┩\n",
              "│ embedding_1 (<span style=\"color: #0087ff; text-decoration-color: #0087ff\">Embedding</span>)              │ ?                           │     <span style=\"color: #00af00; text-decoration-color: #00af00\">0</span> (unbuilt) │\n",
              "└──────────────────────────────────────┴─────────────────────────────┴─────────────────┘\n",
              "</pre>\n"
            ]
          },
          "metadata": {}
        },
        {
          "output_type": "display_data",
          "data": {
            "text/plain": [
              "\u001b[1m Total params: \u001b[0m\u001b[38;5;34m0\u001b[0m (0.00 B)\n"
            ],
            "text/html": [
              "<pre style=\"white-space:pre;overflow-x:auto;line-height:normal;font-family:Menlo,'DejaVu Sans Mono',consolas,'Courier New',monospace\"><span style=\"font-weight: bold\"> Total params: </span><span style=\"color: #00af00; text-decoration-color: #00af00\">0</span> (0.00 B)\n",
              "</pre>\n"
            ]
          },
          "metadata": {}
        },
        {
          "output_type": "display_data",
          "data": {
            "text/plain": [
              "\u001b[1m Trainable params: \u001b[0m\u001b[38;5;34m0\u001b[0m (0.00 B)\n"
            ],
            "text/html": [
              "<pre style=\"white-space:pre;overflow-x:auto;line-height:normal;font-family:Menlo,'DejaVu Sans Mono',consolas,'Courier New',monospace\"><span style=\"font-weight: bold\"> Trainable params: </span><span style=\"color: #00af00; text-decoration-color: #00af00\">0</span> (0.00 B)\n",
              "</pre>\n"
            ]
          },
          "metadata": {}
        },
        {
          "output_type": "display_data",
          "data": {
            "text/plain": [
              "\u001b[1m Non-trainable params: \u001b[0m\u001b[38;5;34m0\u001b[0m (0.00 B)\n"
            ],
            "text/html": [
              "<pre style=\"white-space:pre;overflow-x:auto;line-height:normal;font-family:Menlo,'DejaVu Sans Mono',consolas,'Courier New',monospace\"><span style=\"font-weight: bold\"> Non-trainable params: </span><span style=\"color: #00af00; text-decoration-color: #00af00\">0</span> (0.00 B)\n",
              "</pre>\n"
            ]
          },
          "metadata": {}
        }
      ]
    },
    {
      "cell_type": "code",
      "source": [
        "model.predict(embedded_docs)"
      ],
      "metadata": {
        "colab": {
          "base_uri": "https://localhost:8080/"
        },
        "id": "TlX__efeTe1d",
        "outputId": "88ada251-f778-4d10-e218-94b509815370"
      },
      "execution_count": 7,
      "outputs": [
        {
          "output_type": "stream",
          "name": "stdout",
          "text": [
            "\u001b[1m1/1\u001b[0m \u001b[32m━━━━━━━━━━━━━━━━━━━━\u001b[0m\u001b[37m\u001b[0m \u001b[1m0s\u001b[0m 293ms/step\n"
          ]
        },
        {
          "output_type": "execute_result",
          "data": {
            "text/plain": [
              "array([[[ 1.46141909e-02,  4.86564748e-02, -1.71800703e-03,\n",
              "         -3.77158746e-02,  9.20990855e-03, -1.51442364e-03,\n",
              "         -3.69654670e-02, -2.50821710e-02, -1.42507665e-02,\n",
              "         -1.57482252e-02],\n",
              "        [ 1.46141909e-02,  4.86564748e-02, -1.71800703e-03,\n",
              "         -3.77158746e-02,  9.20990855e-03, -1.51442364e-03,\n",
              "         -3.69654670e-02, -2.50821710e-02, -1.42507665e-02,\n",
              "         -1.57482252e-02],\n",
              "        [ 1.46141909e-02,  4.86564748e-02, -1.71800703e-03,\n",
              "         -3.77158746e-02,  9.20990855e-03, -1.51442364e-03,\n",
              "         -3.69654670e-02, -2.50821710e-02, -1.42507665e-02,\n",
              "         -1.57482252e-02],\n",
              "        [ 1.46141909e-02,  4.86564748e-02, -1.71800703e-03,\n",
              "         -3.77158746e-02,  9.20990855e-03, -1.51442364e-03,\n",
              "         -3.69654670e-02, -2.50821710e-02, -1.42507665e-02,\n",
              "         -1.57482252e-02],\n",
              "        [-4.73373644e-02,  2.53400952e-03, -3.83748524e-02,\n",
              "         -1.64665096e-02,  4.75477427e-04, -5.29431179e-03,\n",
              "          6.53759390e-03, -4.69657034e-03,  3.64368446e-02,\n",
              "          2.78852098e-02],\n",
              "        [-2.41265055e-02, -4.00175564e-02, -9.11176205e-03,\n",
              "         -6.92654401e-04, -4.70756181e-02,  4.03110646e-02,\n",
              "          1.72456242e-02, -4.37279604e-02, -1.17697231e-02,\n",
              "         -9.54512507e-03],\n",
              "        [ 3.67884375e-02,  4.31236736e-02, -1.78640261e-02,\n",
              "         -3.01473215e-03,  4.73150052e-02,  3.30902450e-02,\n",
              "         -4.88420576e-03, -4.26050313e-02, -2.68425234e-02,\n",
              "          2.31649727e-03],\n",
              "        [-1.62868388e-02,  4.37228940e-02,  4.54516336e-03,\n",
              "          4.62225340e-02,  7.79888779e-03,  1.48136877e-02,\n",
              "         -2.73963101e-02, -2.39232928e-03, -4.83619347e-02,\n",
              "         -2.17258930e-03]],\n",
              "\n",
              "       [[ 1.46141909e-02,  4.86564748e-02, -1.71800703e-03,\n",
              "         -3.77158746e-02,  9.20990855e-03, -1.51442364e-03,\n",
              "         -3.69654670e-02, -2.50821710e-02, -1.42507665e-02,\n",
              "         -1.57482252e-02],\n",
              "        [ 1.46141909e-02,  4.86564748e-02, -1.71800703e-03,\n",
              "         -3.77158746e-02,  9.20990855e-03, -1.51442364e-03,\n",
              "         -3.69654670e-02, -2.50821710e-02, -1.42507665e-02,\n",
              "         -1.57482252e-02],\n",
              "        [ 1.46141909e-02,  4.86564748e-02, -1.71800703e-03,\n",
              "         -3.77158746e-02,  9.20990855e-03, -1.51442364e-03,\n",
              "         -3.69654670e-02, -2.50821710e-02, -1.42507665e-02,\n",
              "         -1.57482252e-02],\n",
              "        [ 1.46141909e-02,  4.86564748e-02, -1.71800703e-03,\n",
              "         -3.77158746e-02,  9.20990855e-03, -1.51442364e-03,\n",
              "         -3.69654670e-02, -2.50821710e-02, -1.42507665e-02,\n",
              "         -1.57482252e-02],\n",
              "        [-4.73373644e-02,  2.53400952e-03, -3.83748524e-02,\n",
              "         -1.64665096e-02,  4.75477427e-04, -5.29431179e-03,\n",
              "          6.53759390e-03, -4.69657034e-03,  3.64368446e-02,\n",
              "          2.78852098e-02],\n",
              "        [-2.41265055e-02, -4.00175564e-02, -9.11176205e-03,\n",
              "         -6.92654401e-04, -4.70756181e-02,  4.03110646e-02,\n",
              "          1.72456242e-02, -4.37279604e-02, -1.17697231e-02,\n",
              "         -9.54512507e-03],\n",
              "        [ 3.67884375e-02,  4.31236736e-02, -1.78640261e-02,\n",
              "         -3.01473215e-03,  4.73150052e-02,  3.30902450e-02,\n",
              "         -4.88420576e-03, -4.26050313e-02, -2.68425234e-02,\n",
              "          2.31649727e-03],\n",
              "        [-1.39427185e-02,  4.19928916e-02, -4.61821221e-02,\n",
              "         -4.78808060e-02, -2.46932395e-02,  4.49093468e-02,\n",
              "          3.22030447e-02,  3.56969126e-02, -4.29080129e-02,\n",
              "          1.43171586e-02]],\n",
              "\n",
              "       [[ 1.46141909e-02,  4.86564748e-02, -1.71800703e-03,\n",
              "         -3.77158746e-02,  9.20990855e-03, -1.51442364e-03,\n",
              "         -3.69654670e-02, -2.50821710e-02, -1.42507665e-02,\n",
              "         -1.57482252e-02],\n",
              "        [ 1.46141909e-02,  4.86564748e-02, -1.71800703e-03,\n",
              "         -3.77158746e-02,  9.20990855e-03, -1.51442364e-03,\n",
              "         -3.69654670e-02, -2.50821710e-02, -1.42507665e-02,\n",
              "         -1.57482252e-02],\n",
              "        [ 1.46141909e-02,  4.86564748e-02, -1.71800703e-03,\n",
              "         -3.77158746e-02,  9.20990855e-03, -1.51442364e-03,\n",
              "         -3.69654670e-02, -2.50821710e-02, -1.42507665e-02,\n",
              "         -1.57482252e-02],\n",
              "        [ 1.46141909e-02,  4.86564748e-02, -1.71800703e-03,\n",
              "         -3.77158746e-02,  9.20990855e-03, -1.51442364e-03,\n",
              "         -3.69654670e-02, -2.50821710e-02, -1.42507665e-02,\n",
              "         -1.57482252e-02],\n",
              "        [-4.73373644e-02,  2.53400952e-03, -3.83748524e-02,\n",
              "         -1.64665096e-02,  4.75477427e-04, -5.29431179e-03,\n",
              "          6.53759390e-03, -4.69657034e-03,  3.64368446e-02,\n",
              "          2.78852098e-02],\n",
              "        [-2.63566617e-02, -2.66109947e-02, -7.36092404e-03,\n",
              "         -3.25132012e-02, -2.69239303e-02,  4.91294600e-02,\n",
              "         -3.23584899e-02,  4.84406985e-02,  3.75338309e-02,\n",
              "          3.05359103e-02],\n",
              "        [ 3.67884375e-02,  4.31236736e-02, -1.78640261e-02,\n",
              "         -3.01473215e-03,  4.73150052e-02,  3.30902450e-02,\n",
              "         -4.88420576e-03, -4.26050313e-02, -2.68425234e-02,\n",
              "          2.31649727e-03],\n",
              "        [-1.80201530e-02, -4.86276634e-02,  4.92024682e-02,\n",
              "         -8.51638615e-05,  4.27660383e-02, -4.32443507e-02,\n",
              "         -6.41831011e-03,  3.18654217e-02,  3.55845727e-02,\n",
              "          2.99443863e-02]],\n",
              "\n",
              "       [[ 1.46141909e-02,  4.86564748e-02, -1.71800703e-03,\n",
              "         -3.77158746e-02,  9.20990855e-03, -1.51442364e-03,\n",
              "         -3.69654670e-02, -2.50821710e-02, -1.42507665e-02,\n",
              "         -1.57482252e-02],\n",
              "        [ 1.46141909e-02,  4.86564748e-02, -1.71800703e-03,\n",
              "         -3.77158746e-02,  9.20990855e-03, -1.51442364e-03,\n",
              "         -3.69654670e-02, -2.50821710e-02, -1.42507665e-02,\n",
              "         -1.57482252e-02],\n",
              "        [ 1.46141909e-02,  4.86564748e-02, -1.71800703e-03,\n",
              "         -3.77158746e-02,  9.20990855e-03, -1.51442364e-03,\n",
              "         -3.69654670e-02, -2.50821710e-02, -1.42507665e-02,\n",
              "         -1.57482252e-02],\n",
              "        [-2.39307415e-02, -4.50266004e-02, -1.43005960e-02,\n",
              "          1.48626305e-02,  3.26745398e-02, -2.76163463e-02,\n",
              "         -3.95545848e-02, -7.59653002e-03, -9.84183699e-03,\n",
              "          4.31774296e-02],\n",
              "        [-1.90812107e-02,  8.32069665e-04,  4.12037037e-02,\n",
              "         -2.39012372e-02, -2.84539461e-02,  3.34021337e-02,\n",
              "          4.98151816e-02, -1.78233497e-02, -4.12483141e-03,\n",
              "          3.54447626e-02],\n",
              "        [ 4.06876206e-05,  7.87229463e-03,  1.27227940e-02,\n",
              "          6.13510609e-04,  4.58979495e-02,  3.33905928e-02,\n",
              "         -1.70589313e-02, -1.12457387e-02, -2.82069203e-02,\n",
              "         -5.79358265e-03],\n",
              "        [ 3.49153318e-02,  3.96530516e-02,  1.29584782e-02,\n",
              "          3.58048715e-02, -2.45958567e-03,  9.21063498e-03,\n",
              "          3.66069116e-02, -4.11606915e-02,  1.31260864e-02,\n",
              "         -1.77286975e-02],\n",
              "        [-9.32722166e-03, -9.77466255e-03, -2.25947741e-02,\n",
              "          2.01803334e-02, -2.11658366e-02, -1.75667293e-02,\n",
              "         -2.87893545e-02, -1.99234728e-02, -3.39600220e-02,\n",
              "         -4.28267606e-02]],\n",
              "\n",
              "       [[ 1.46141909e-02,  4.86564748e-02, -1.71800703e-03,\n",
              "         -3.77158746e-02,  9.20990855e-03, -1.51442364e-03,\n",
              "         -3.69654670e-02, -2.50821710e-02, -1.42507665e-02,\n",
              "         -1.57482252e-02],\n",
              "        [ 1.46141909e-02,  4.86564748e-02, -1.71800703e-03,\n",
              "         -3.77158746e-02,  9.20990855e-03, -1.51442364e-03,\n",
              "         -3.69654670e-02, -2.50821710e-02, -1.42507665e-02,\n",
              "         -1.57482252e-02],\n",
              "        [ 1.46141909e-02,  4.86564748e-02, -1.71800703e-03,\n",
              "         -3.77158746e-02,  9.20990855e-03, -1.51442364e-03,\n",
              "         -3.69654670e-02, -2.50821710e-02, -1.42507665e-02,\n",
              "         -1.57482252e-02],\n",
              "        [-2.39307415e-02, -4.50266004e-02, -1.43005960e-02,\n",
              "          1.48626305e-02,  3.26745398e-02, -2.76163463e-02,\n",
              "         -3.95545848e-02, -7.59653002e-03, -9.84183699e-03,\n",
              "          4.31774296e-02],\n",
              "        [-1.90812107e-02,  8.32069665e-04,  4.12037037e-02,\n",
              "         -2.39012372e-02, -2.84539461e-02,  3.34021337e-02,\n",
              "          4.98151816e-02, -1.78233497e-02, -4.12483141e-03,\n",
              "          3.54447626e-02],\n",
              "        [ 4.06876206e-05,  7.87229463e-03,  1.27227940e-02,\n",
              "          6.13510609e-04,  4.58979495e-02,  3.33905928e-02,\n",
              "         -1.70589313e-02, -1.12457387e-02, -2.82069203e-02,\n",
              "         -5.79358265e-03],\n",
              "        [ 3.49153318e-02,  3.96530516e-02,  1.29584782e-02,\n",
              "          3.58048715e-02, -2.45958567e-03,  9.21063498e-03,\n",
              "          3.66069116e-02, -4.11606915e-02,  1.31260864e-02,\n",
              "         -1.77286975e-02],\n",
              "        [ 2.78691202e-03,  4.97036055e-03, -3.71009819e-02,\n",
              "         -4.67409380e-02,  2.57358290e-02, -3.71988043e-02,\n",
              "         -3.49911824e-02, -3.08892261e-02, -3.34082916e-03,\n",
              "         -3.40327621e-02]],\n",
              "\n",
              "       [[ 1.46141909e-02,  4.86564748e-02, -1.71800703e-03,\n",
              "         -3.77158746e-02,  9.20990855e-03, -1.51442364e-03,\n",
              "         -3.69654670e-02, -2.50821710e-02, -1.42507665e-02,\n",
              "         -1.57482252e-02],\n",
              "        [ 1.46141909e-02,  4.86564748e-02, -1.71800703e-03,\n",
              "         -3.77158746e-02,  9.20990855e-03, -1.51442364e-03,\n",
              "         -3.69654670e-02, -2.50821710e-02, -1.42507665e-02,\n",
              "         -1.57482252e-02],\n",
              "        [ 1.46141909e-02,  4.86564748e-02, -1.71800703e-03,\n",
              "         -3.77158746e-02,  9.20990855e-03, -1.51442364e-03,\n",
              "         -3.69654670e-02, -2.50821710e-02, -1.42507665e-02,\n",
              "         -1.57482252e-02],\n",
              "        [ 8.40098783e-03, -1.67035945e-02,  4.01567705e-02,\n",
              "         -3.50603461e-02,  4.63502742e-02, -1.53010711e-02,\n",
              "         -2.21637376e-02,  3.90266255e-03, -3.69956382e-02,\n",
              "         -5.49787283e-03],\n",
              "        [-4.73373644e-02,  2.53400952e-03, -3.83748524e-02,\n",
              "         -1.64665096e-02,  4.75477427e-04, -5.29431179e-03,\n",
              "          6.53759390e-03, -4.69657034e-03,  3.64368446e-02,\n",
              "          2.78852098e-02],\n",
              "        [ 2.21341960e-02,  1.63963772e-02,  3.29953544e-02,\n",
              "          3.97965647e-02,  1.40558220e-02, -2.44412664e-02,\n",
              "         -2.04194430e-02, -1.37334578e-02, -3.44563127e-02,\n",
              "         -7.51625374e-03],\n",
              "        [ 3.67884375e-02,  4.31236736e-02, -1.78640261e-02,\n",
              "         -3.01473215e-03,  4.73150052e-02,  3.30902450e-02,\n",
              "         -4.88420576e-03, -4.26050313e-02, -2.68425234e-02,\n",
              "          2.31649727e-03],\n",
              "        [ 3.67884375e-02,  4.31236736e-02, -1.78640261e-02,\n",
              "         -3.01473215e-03,  4.73150052e-02,  3.30902450e-02,\n",
              "         -4.88420576e-03, -4.26050313e-02, -2.68425234e-02,\n",
              "          2.31649727e-03]],\n",
              "\n",
              "       [[ 1.46141909e-02,  4.86564748e-02, -1.71800703e-03,\n",
              "         -3.77158746e-02,  9.20990855e-03, -1.51442364e-03,\n",
              "         -3.69654670e-02, -2.50821710e-02, -1.42507665e-02,\n",
              "         -1.57482252e-02],\n",
              "        [ 1.46141909e-02,  4.86564748e-02, -1.71800703e-03,\n",
              "         -3.77158746e-02,  9.20990855e-03, -1.51442364e-03,\n",
              "         -3.69654670e-02, -2.50821710e-02, -1.42507665e-02,\n",
              "         -1.57482252e-02],\n",
              "        [ 1.46141909e-02,  4.86564748e-02, -1.71800703e-03,\n",
              "         -3.77158746e-02,  9.20990855e-03, -1.51442364e-03,\n",
              "         -3.69654670e-02, -2.50821710e-02, -1.42507665e-02,\n",
              "         -1.57482252e-02],\n",
              "        [ 1.46141909e-02,  4.86564748e-02, -1.71800703e-03,\n",
              "         -3.77158746e-02,  9.20990855e-03, -1.51442364e-03,\n",
              "         -3.69654670e-02, -2.50821710e-02, -1.42507665e-02,\n",
              "         -1.57482252e-02],\n",
              "        [ 3.43943499e-02,  3.05171274e-02,  3.93239893e-02,\n",
              "         -1.70501098e-02,  1.47803910e-02, -3.63280624e-03,\n",
              "         -1.10589378e-02, -6.57440349e-03, -2.74104960e-02,\n",
              "          4.16798033e-02],\n",
              "        [ 1.47664808e-02, -4.51464765e-02, -1.95288789e-02,\n",
              "          1.00813992e-02, -3.69419940e-02,  4.63513993e-02,\n",
              "          5.21062687e-03,  2.80124582e-02, -4.16707993e-03,\n",
              "         -3.30711976e-02],\n",
              "        [ 4.26675566e-02, -3.47243622e-03, -2.24858765e-02,\n",
              "          8.65183026e-03,  1.51220076e-02, -4.05214913e-02,\n",
              "          2.52528116e-03, -3.19448858e-02,  4.98210527e-02,\n",
              "         -2.61295792e-02],\n",
              "        [ 3.49153318e-02,  3.96530516e-02,  1.29584782e-02,\n",
              "          3.58048715e-02, -2.45958567e-03,  9.21063498e-03,\n",
              "          3.66069116e-02, -4.11606915e-02,  1.31260864e-02,\n",
              "         -1.77286975e-02]]], dtype=float32)"
            ]
          },
          "metadata": {},
          "execution_count": 7
        }
      ]
    },
    {
      "cell_type": "code",
      "source": [
        "model.summary()"
      ],
      "metadata": {
        "colab": {
          "base_uri": "https://localhost:8080/",
          "height": 166
        },
        "id": "XVeAfvM2TqjR",
        "outputId": "8d6d3ace-9d57-4345-b46a-facd5bf9f987"
      },
      "execution_count": 8,
      "outputs": [
        {
          "output_type": "display_data",
          "data": {
            "text/plain": [
              "\u001b[1mModel: \"sequential_1\"\u001b[0m\n"
            ],
            "text/html": [
              "<pre style=\"white-space:pre;overflow-x:auto;line-height:normal;font-family:Menlo,'DejaVu Sans Mono',consolas,'Courier New',monospace\"><span style=\"font-weight: bold\">Model: \"sequential_1\"</span>\n",
              "</pre>\n"
            ]
          },
          "metadata": {}
        },
        {
          "output_type": "display_data",
          "data": {
            "text/plain": [
              "┏━━━━━━━━━━━━━━━━━━━━━━━━━━━━━━━━━━━━━━┳━━━━━━━━━━━━━━━━━━━━━━━━━━━━━┳━━━━━━━━━━━━━━━━━┓\n",
              "┃\u001b[1m \u001b[0m\u001b[1mLayer (type)                        \u001b[0m\u001b[1m \u001b[0m┃\u001b[1m \u001b[0m\u001b[1mOutput Shape               \u001b[0m\u001b[1m \u001b[0m┃\u001b[1m \u001b[0m\u001b[1m        Param #\u001b[0m\u001b[1m \u001b[0m┃\n",
              "┡━━━━━━━━━━━━━━━━━━━━━━━━━━━━━━━━━━━━━━╇━━━━━━━━━━━━━━━━━━━━━━━━━━━━━╇━━━━━━━━━━━━━━━━━┩\n",
              "│ embedding_1 (\u001b[38;5;33mEmbedding\u001b[0m)              │ (\u001b[38;5;34m7\u001b[0m, \u001b[38;5;34m8\u001b[0m, \u001b[38;5;34m10\u001b[0m)                  │         \u001b[38;5;34m100,000\u001b[0m │\n",
              "└──────────────────────────────────────┴─────────────────────────────┴─────────────────┘\n"
            ],
            "text/html": [
              "<pre style=\"white-space:pre;overflow-x:auto;line-height:normal;font-family:Menlo,'DejaVu Sans Mono',consolas,'Courier New',monospace\">┏━━━━━━━━━━━━━━━━━━━━━━━━━━━━━━━━━━━━━━┳━━━━━━━━━━━━━━━━━━━━━━━━━━━━━┳━━━━━━━━━━━━━━━━━┓\n",
              "┃<span style=\"font-weight: bold\"> Layer (type)                         </span>┃<span style=\"font-weight: bold\"> Output Shape                </span>┃<span style=\"font-weight: bold\">         Param # </span>┃\n",
              "┡━━━━━━━━━━━━━━━━━━━━━━━━━━━━━━━━━━━━━━╇━━━━━━━━━━━━━━━━━━━━━━━━━━━━━╇━━━━━━━━━━━━━━━━━┩\n",
              "│ embedding_1 (<span style=\"color: #0087ff; text-decoration-color: #0087ff\">Embedding</span>)              │ (<span style=\"color: #00af00; text-decoration-color: #00af00\">7</span>, <span style=\"color: #00af00; text-decoration-color: #00af00\">8</span>, <span style=\"color: #00af00; text-decoration-color: #00af00\">10</span>)                  │         <span style=\"color: #00af00; text-decoration-color: #00af00\">100,000</span> │\n",
              "└──────────────────────────────────────┴─────────────────────────────┴─────────────────┘\n",
              "</pre>\n"
            ]
          },
          "metadata": {}
        },
        {
          "output_type": "display_data",
          "data": {
            "text/plain": [
              "\u001b[1m Total params: \u001b[0m\u001b[38;5;34m100,000\u001b[0m (390.62 KB)\n"
            ],
            "text/html": [
              "<pre style=\"white-space:pre;overflow-x:auto;line-height:normal;font-family:Menlo,'DejaVu Sans Mono',consolas,'Courier New',monospace\"><span style=\"font-weight: bold\"> Total params: </span><span style=\"color: #00af00; text-decoration-color: #00af00\">100,000</span> (390.62 KB)\n",
              "</pre>\n"
            ]
          },
          "metadata": {}
        },
        {
          "output_type": "display_data",
          "data": {
            "text/plain": [
              "\u001b[1m Trainable params: \u001b[0m\u001b[38;5;34m100,000\u001b[0m (390.62 KB)\n"
            ],
            "text/html": [
              "<pre style=\"white-space:pre;overflow-x:auto;line-height:normal;font-family:Menlo,'DejaVu Sans Mono',consolas,'Courier New',monospace\"><span style=\"font-weight: bold\"> Trainable params: </span><span style=\"color: #00af00; text-decoration-color: #00af00\">100,000</span> (390.62 KB)\n",
              "</pre>\n"
            ]
          },
          "metadata": {}
        },
        {
          "output_type": "display_data",
          "data": {
            "text/plain": [
              "\u001b[1m Non-trainable params: \u001b[0m\u001b[38;5;34m0\u001b[0m (0.00 B)\n"
            ],
            "text/html": [
              "<pre style=\"white-space:pre;overflow-x:auto;line-height:normal;font-family:Menlo,'DejaVu Sans Mono',consolas,'Courier New',monospace\"><span style=\"font-weight: bold\"> Non-trainable params: </span><span style=\"color: #00af00; text-decoration-color: #00af00\">0</span> (0.00 B)\n",
              "</pre>\n"
            ]
          },
          "metadata": {}
        }
      ]
    }
  ]
}